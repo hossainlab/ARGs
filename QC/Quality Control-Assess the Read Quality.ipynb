{
 "cells": [
  {
   "cell_type": "markdown",
   "metadata": {},
   "source": [
    "# Quality Control of Raw Sequence: Assess the Read Quality\n",
    "- Per base sequence quality\n",
    "- Per sequence quality scores\n",
    "- Per base sequence content\n",
    "- Per sequence GC content\n",
    "- Sequence Duplication Levels\n",
    "- Over-represented sequences\n"
   ]
  },
  {
   "cell_type": "code",
   "execution_count": 2,
   "metadata": {},
   "outputs": [],
   "source": [
    "from IPython.display import FileLink, FileLinks, IFrame"
   ]
  },
  {
   "cell_type": "code",
   "execution_count": 2,
   "metadata": {},
   "outputs": [
    {
     "name": "stdout",
     "output_type": "stream",
     "text": [
      "/home/jhossain/ARGs/QC\r\n"
     ]
    }
   ],
   "source": [
    "# Check working directory\n",
    "!pwd "
   ]
  },
  {
   "cell_type": "code",
   "execution_count": 3,
   "metadata": {},
   "outputs": [
    {
     "name": "stdout",
     "output_type": "stream",
     "text": [
      "'Quality Check Using FastQC.ipynb'   sample-1   sample-2   sample-3\r\n"
     ]
    }
   ],
   "source": [
    "# List all direcories and files \n",
    "!ls "
   ]
  },
  {
   "cell_type": "code",
   "execution_count": 6,
   "metadata": {},
   "outputs": [
    {
     "name": "stdout",
     "output_type": "stream",
     "text": [
      "@SRR8573791.1 1/1\r\n",
      "ACAACGAACAAACAATTGTCCAGCGATTAAATCTATCTAATTTAAATGAATTGTTAAAAACTCAAAATCATATTATTTACGATGGATATAGCGACACACGAATATCCCGATAC\r\n",
      "+\r\n",
      "<@BA@EFDGGGGG@GGGGDBBCGGGGGGGGEFFGGEGGGGGGGGGGGGGGGFED>FFGGG>:0FGGGGGGGD0FCGFGGDGGGFFGGGGGCFC<8;/:/:@DBGG>=C>.59@\r\n",
      "@SRR8573791.2 2/1\r\n",
      "CCCGCAGCGACTACGGCAAATTCTTTGCTGGCAGTGGCCAGGAGGCATTGGAACTGCTCGCCGACCAGCAGATCGATATCGTTGTCACGGATATGAAGATGCCGGGTATTGACGGCCTGACCCTGC\r\n",
      "+\r\n",
      "BB>@BCBGGGGGE:EFGGGGGGEFGGDGGGGGGGGEGGGGGG0FGGGGGGGGGGGGGGGGGGGGGDEDGGGGGGGFGGGGGGFGGCGGBG.CDGG/8DBD@BGA9AG.@@EBCG@G,7>;EB?GG>\r\n",
      "@SRR8573791.3 3/1\r\n",
      "TCGGGGCACTCGCCCAGTCGGTATTGCGCGCACGCAGGCGGCTCGCGGATTGCGGGCTGAGCCTGATGTTGAGCATCACAATCGCCGGTAACTCCCAGTCATTCCAGTGGCCC\r\n"
     ]
    }
   ],
   "source": [
    "# Take a look at first few lines of sequence(sample-1==>forward)  \n",
    "!head sample-1/SRR8573791_1.fastq"
   ]
  },
  {
   "cell_type": "code",
   "execution_count": 7,
   "metadata": {},
   "outputs": [
    {
     "name": "stdout",
     "output_type": "stream",
     "text": [
      "+\r\n",
      "B>BBBGGGGGGGGGGGGGGGGGGGGGGGGGGGGGGGGGGGGDGGGGGGGGGGGGGGGGGGGGGGGGGGGGGGGGGGGGCGGGGGGGGGGGGGGGGGGGGGGGGGGGEGGGGGGGGGGGGGGEGGG@\r\n",
      "@SRR8573791.14138123 14138123/1\r\n",
      "CTCCAATACCGGCGTCACCGCAGCGGTCTCCGCGACCGGCCAAACGTTGCAAAAGCTCGTGGATGACAAGGGCAACCACTTCACCCGAGGCACCCTCCTGGCCGAACTGCCGATTCCCCTAAAGCC\r\n",
      "+\r\n",
      "B@BBBGGGGGGGGGGGGGGGGGGGGGGGGGGGGGGGGGGGGGGGGGGGGGGF>9FGGGGGGGGGGGGGGGGGGGGGGGGGGGGGEGGGGGGGGBGGGGGGGGBGGG@GG=GGGGGEBEGG,BBEGE\r\n",
      "@SRR8573791.14138124 14138124/1\r\n",
      "CTGGAACGAATCGGGGAGGAAGCCGAAGCCATCAAAGTGTATGAAAAAGGAATGGACGAGGCTAAAAAAGCGGGTGATAACCATGCTTTCGGGGAACTCAGGGGGGCATATGAGGAGCTTACCTT\r\n",
      "+\r\n",
      "?B:AFFBFGGGBEGDGGGGGGGGGGGGG@GGGGGGGGCGGGGGGGGGBGDGGF@GGGGGE>GEGFGGGGGE>:>.8FGGGGFGG=@GGGEGDDGGG@BGGG.@A;GGGGGGBEBGGGEBGBBBGE\r\n"
     ]
    }
   ],
   "source": [
    "# Take a look at last few lines of sequence(sample-1==>forward) \n",
    "!tail sample-1/SRR8573791_1.fastq"
   ]
  },
  {
   "cell_type": "code",
   "execution_count": 4,
   "metadata": {},
   "outputs": [
    {
     "name": "stdout",
     "output_type": "stream",
     "text": [
      "Started analysis of SRR8573791_1.fastq.gz\n",
      "Approx 5% complete for SRR8573791_1.fastq.gz\n",
      "Approx 10% complete for SRR8573791_1.fastq.gz\n",
      "Approx 15% complete for SRR8573791_1.fastq.gz\n",
      "Approx 20% complete for SRR8573791_1.fastq.gz\n",
      "Approx 25% complete for SRR8573791_1.fastq.gz\n",
      "Approx 30% complete for SRR8573791_1.fastq.gz\n",
      "Approx 35% complete for SRR8573791_1.fastq.gz\n",
      "Approx 40% complete for SRR8573791_1.fastq.gz\n",
      "Approx 45% complete for SRR8573791_1.fastq.gz\n",
      "Approx 50% complete for SRR8573791_1.fastq.gz\n",
      "Approx 55% complete for SRR8573791_1.fastq.gz\n",
      "Approx 60% complete for SRR8573791_1.fastq.gz\n",
      "Approx 65% complete for SRR8573791_1.fastq.gz\n",
      "Approx 70% complete for SRR8573791_1.fastq.gz\n",
      "Approx 75% complete for SRR8573791_1.fastq.gz\n",
      "Approx 80% complete for SRR8573791_1.fastq.gz\n",
      "Approx 85% complete for SRR8573791_1.fastq.gz\n",
      "Approx 90% complete for SRR8573791_1.fastq.gz\n",
      "Approx 95% complete for SRR8573791_1.fastq.gz\n",
      "Analysis complete for SRR8573791_1.fastq.gz\n"
     ]
    }
   ],
   "source": [
    "# Quality check for sample-1==>forward\n",
    "!fastqc sample-1/SRR8573791_1.fastq.gz"
   ]
  },
  {
   "cell_type": "code",
   "execution_count": 6,
   "metadata": {},
   "outputs": [
    {
     "data": {
      "text/html": [
       "\n",
       "        <iframe\n",
       "            width=\"1200\"\n",
       "            height=\"500\"\n",
       "            src=\"sample-1/SRR8573791_1_fastqc.html\"\n",
       "            frameborder=\"0\"\n",
       "            allowfullscreen\n",
       "        ></iframe>\n",
       "        "
      ],
      "text/plain": [
       "<IPython.lib.display.IFrame at 0x7f228060bf10>"
      ]
     },
     "execution_count": 6,
     "metadata": {},
     "output_type": "execute_result"
    }
   ],
   "source": [
    "# Quality visualizations of sample-1==>forward\n",
    "IFrame(src=\"sample-1/SRR8573791_1_fastqc.html\", width=1200, height=500)"
   ]
  },
  {
   "cell_type": "code",
   "execution_count": 8,
   "metadata": {},
   "outputs": [
    {
     "name": "stdout",
     "output_type": "stream",
     "text": [
      "@SRR8573791.1 1/2\r\n",
      "ACAATTTGCCTTTCCTTTTCGTTTGGAGCGGTAAATTTTCGGACTAATTTTTCAAAACGGTCTGAAGACATTGGCTGATAATTTTTAGAAGAAGTTGTGGCTCGCCTGCTG\r\n",
      "+\r\n",
      "AAAB=FGGGEGGGGGGGEGEGGGFGG:FGBED/<F1E:FGAB/ECD:1FGGGGGFF@F@CFB9B@>:FDEG0FCGGGF00FGDGG0@FGCF00CFGGG><6F7A:.F;008\r\n",
      "@SRR8573791.2 2/2\r\n",
      "AGTTGACGGGGGTCGAGCGGCTTGGTGAGAAAACGAAAGACCTCGCCACGATTGATGCAGGGCAACAACTGGTCGGCCTGGGTGTGTGCACTCAGCACAAGGCGGAGGATGTGCGGGTGATGCTG\r\n",
      "+\r\n",
      "BAABBGGGGFDDGGCECFE<EEBEGFBGG1CFCFGEG=/EFFFGG<EGGGCFGG>CGG@CFGBFGGFGGGDBEGGGGGBGGG@C>DGGEGG/9DEGGD..@EGG.8@D.636CE79373<GGGG@\r\n",
      "@SRR8573791.3 3/2\r\n",
      "AAACGCAGTTCATCTGGCTGATGGGCGCCGACAATCTGGCACAATTTCACCGCTGGCGCGGCTGGCGCGCGCTGGCGCGGCGCGTCGCGATTGCTGTTTTTCCGCGTTC\r\n"
     ]
    }
   ],
   "source": [
    "# Take a look at first few lines of sequence(sample-1==>reverse)  \n",
    "!head sample-1/SRR8573791_2.fastq"
   ]
  },
  {
   "cell_type": "code",
   "execution_count": 9,
   "metadata": {},
   "outputs": [
    {
     "name": "stdout",
     "output_type": "stream",
     "text": [
      "+\r\n",
      "CCCCCGGGGGGGGGGGGGGGGGGGGGGGGGGGGGGGGGGGGGGGGGGGGGGGGGGGGGGGGGGGGGGGGGGGGGGGGGGGGGGFGGGGGGGGGGGGGGGGGGEBGC=BGGGGGGGGEGGGGGGD.B\r\n",
      "@SRR8573791.14138123 14138123/2\r\n",
      "GTTTCTCCAGCCCATCACTCCAAGAGGCCACAATTCCGTCAGGAGCGTTATCGGTCGCTTCTTCTCGACAAACACCATAGCATCGTCCTCCGCACAAGGGGGGCTGATGGCGTTGCGGCCGGCC\r\n",
      "+\r\n",
      "CCCCCGGGGGGGGGGGGGGGGGFGFFGFGGBGEGGGGGGGGGGGGGGGBFEGECFGGGGGGGGGGGGEGGGGGGGGG0FGGG0<F0F>,FGDGGG,A-BB=@G,7DGGB.E,5@GG@GGGGGG@\r\n",
      "@SRR8573791.14138124 14138124/2\r\n",
      "TATGAGTCCAGTATCGGGGCAGGAGTTATTCTACTGGCCGGGTTATGGTTCTATTCGTTTAACAGGAAAAAAACAGCGGTGATACTATTCGGAACAGCAATACTGGTTTACAAGCTACTGCCCTAT\r\n",
      "+\r\n",
      "BCCBBGGGGGGGGGG<GGGGGGGGGGGFGGGGGEGFCFGGGGGGGGGGGGECGGGGGCFGGGFGGGGEGGGGGGGGBGGGGE@GGGGGFGGG:FGG:=GGGGBEBGGGGGGGG.>GGCBB.6B=G7\r\n"
     ]
    }
   ],
   "source": [
    "# Take a look at last few lines of sequence(sample-1==>reverse)  \n",
    "!tail sample-1/SRR8573791_2.fastq"
   ]
  },
  {
   "cell_type": "code",
   "execution_count": 7,
   "metadata": {},
   "outputs": [
    {
     "name": "stdout",
     "output_type": "stream",
     "text": [
      "Started analysis of SRR8573791_2.fastq.gz\n",
      "Approx 5% complete for SRR8573791_2.fastq.gz\n",
      "Approx 10% complete for SRR8573791_2.fastq.gz\n",
      "Approx 15% complete for SRR8573791_2.fastq.gz\n",
      "Approx 20% complete for SRR8573791_2.fastq.gz\n",
      "Approx 25% complete for SRR8573791_2.fastq.gz\n",
      "Approx 30% complete for SRR8573791_2.fastq.gz\n",
      "Approx 35% complete for SRR8573791_2.fastq.gz\n",
      "Approx 40% complete for SRR8573791_2.fastq.gz\n",
      "Approx 45% complete for SRR8573791_2.fastq.gz\n",
      "Approx 50% complete for SRR8573791_2.fastq.gz\n",
      "Approx 55% complete for SRR8573791_2.fastq.gz\n",
      "Approx 60% complete for SRR8573791_2.fastq.gz\n",
      "Approx 65% complete for SRR8573791_2.fastq.gz\n",
      "Approx 70% complete for SRR8573791_2.fastq.gz\n",
      "Approx 75% complete for SRR8573791_2.fastq.gz\n",
      "Approx 80% complete for SRR8573791_2.fastq.gz\n",
      "Approx 85% complete for SRR8573791_2.fastq.gz\n",
      "Approx 90% complete for SRR8573791_2.fastq.gz\n",
      "Approx 95% complete for SRR8573791_2.fastq.gz\n",
      "Analysis complete for SRR8573791_2.fastq.gz\n"
     ]
    }
   ],
   "source": [
    "# Quality check for sample-1==>reverse\n",
    "!fastqc sample-1/SRR8573791_2.fastq.gz"
   ]
  },
  {
   "cell_type": "code",
   "execution_count": 5,
   "metadata": {},
   "outputs": [
    {
     "data": {
      "text/html": [
       "\n",
       "        <iframe\n",
       "            width=\"1200\"\n",
       "            height=\"800\"\n",
       "            src=\"sample-1/SRR8573791_2_fastqc.html\"\n",
       "            frameborder=\"0\"\n",
       "            allowfullscreen\n",
       "        ></iframe>\n",
       "        "
      ],
      "text/plain": [
       "<IPython.lib.display.IFrame at 0x7f550db09b50>"
      ]
     },
     "execution_count": 5,
     "metadata": {},
     "output_type": "execute_result"
    }
   ],
   "source": [
    "# Quality visualizations of sample-1==>reverse\n",
    "IFrame(src=\"sample-1/SRR8573791_2_fastqc.html\", width=1200, height=800)"
   ]
  },
  {
   "cell_type": "code",
   "execution_count": 10,
   "metadata": {},
   "outputs": [
    {
     "name": "stdout",
     "output_type": "stream",
     "text": [
      "@SRR8573792.1 1/1\r\n",
      "ATTCGACTGTGCTCAGCGCCAATACTACGCCAGTGTCGGGACCATCGAATGGATCAATCCTAATTAATACTAATGGTTCGTATACCTATACACCTAATT\r\n",
      "+\r\n",
      "=<@BGGGGGGGGGGGGGGGGGGGGGGGGGGGGGGGGGGGGGGGGGGGGGGGGGGGGGGGGGGGGGGGGGGGGGGGFGGGGGGGGGGGGGGGGGGGGGGG\r\n",
      "@SRR8573792.2 2/1\r\n",
      "TGCCCTGTGGTGCTGGGCTGGTAGTAGTAGGAGCCGTCATCAAACCCCAGGCAGGTGAACGGCTGATTGCGGGGGATGTCAGCGGGCTCCGTTGCCGGCG\r\n",
      "+\r\n",
      "<<>BCGGGGGGGGGGGGGGGGGGGGGEGGGGGGGGGGGGGGGGGGGGGGGGGGGGGGGGGGGG@GBGGGGGGGGGGDGEGBEGGGGGDGGGGGGGGG8@G\r\n",
      "@SRR8573792.3 3/1\r\n",
      "TGCTTTCTTAGGATACAAACCACCAATTACGTCTTTGTCTGTAGCTAACATCATAAAGATAGCTTCTGGTTGGAAACGAATGTCTGCGTCAATGAACATA\r\n"
     ]
    }
   ],
   "source": [
    "# Take a look at first few lines of sequence(sample-2==>forward)  \n",
    "!head sample-2/SRR8573792_1.fastq"
   ]
  },
  {
   "cell_type": "code",
   "execution_count": 11,
   "metadata": {},
   "outputs": [
    {
     "name": "stdout",
     "output_type": "stream",
     "text": [
      "@SRR8573792.10897813 10897813/2\r\n",
      "ATTCAATAGGCAGGTGGTAATCAAATTCTTTTGAACCCCTTAAAATAATATAATCTGCTAATTGTATAAGTCCTTGTGCCAATGTCGTTTTTGTTTCATAA\r\n",
      "+\r\n",
      "BBBBCGGGGGGGGCFGGGGGGGGGGGGGGGGGGGGGGGGBGGGEGGGGGGGGGGGGGGGGGGGGGGGG>DGGGGGGGGGGG>GGGGG@>BFGGGFGGGGG?\r\n",
      "@SRR8573792.10897814 10897814/2\r\n",
      "ATCGGTCTTGAAAACCGTAGTCAAGGTAACACTTGTAGGAGTTCGAATCTCTGTTAGGGTACTATGTAGGTGTAATGTAACGGTAACATTTTAGTCTCCAA\r\n",
      "+\r\n",
      "CCCCCGGGGGGGGGGGGGGGGGGGGGGGGGGGGGGGGGGGGGGGGGGGGGGGGCGGGGGDGGGGGGEGGGGGGGG@FGGGGGGGGGGGCG>GGGGGGGGGC\r\n",
      "@SRR8573792.10897815 10897815/2\r\n",
      "AA"
     ]
    }
   ],
   "source": [
    "# Take a look at last few lines of sequence(sample-2==>reverse)  \n",
    "!tail sample-2/SRR8573792_2.fastq"
   ]
  },
  {
   "cell_type": "code",
   "execution_count": 12,
   "metadata": {},
   "outputs": [
    {
     "name": "stdout",
     "output_type": "stream",
     "text": [
      "Started analysis of SRR8573792_1.fastq.gz\n",
      "Approx 5% complete for SRR8573792_1.fastq.gz\n",
      "Approx 10% complete for SRR8573792_1.fastq.gz\n",
      "Approx 15% complete for SRR8573792_1.fastq.gz\n",
      "Approx 20% complete for SRR8573792_1.fastq.gz\n",
      "Approx 25% complete for SRR8573792_1.fastq.gz\n",
      "Approx 30% complete for SRR8573792_1.fastq.gz\n",
      "Approx 35% complete for SRR8573792_1.fastq.gz\n",
      "Approx 40% complete for SRR8573792_1.fastq.gz\n",
      "Approx 45% complete for SRR8573792_1.fastq.gz\n",
      "Approx 50% complete for SRR8573792_1.fastq.gz\n",
      "Approx 55% complete for SRR8573792_1.fastq.gz\n",
      "Approx 60% complete for SRR8573792_1.fastq.gz\n",
      "Approx 65% complete for SRR8573792_1.fastq.gz\n",
      "Approx 70% complete for SRR8573792_1.fastq.gz\n",
      "Approx 75% complete for SRR8573792_1.fastq.gz\n",
      "Approx 80% complete for SRR8573792_1.fastq.gz\n",
      "Approx 85% complete for SRR8573792_1.fastq.gz\n",
      "Approx 90% complete for SRR8573792_1.fastq.gz\n",
      "Approx 95% complete for SRR8573792_1.fastq.gz\n",
      "Analysis complete for SRR8573792_1.fastq.gz\n"
     ]
    }
   ],
   "source": [
    "# Quality check for sample-2==>forward\n",
    "!fastqc sample-2/SRR8573792_1.fastq.gz"
   ]
  },
  {
   "cell_type": "code",
   "execution_count": 13,
   "metadata": {},
   "outputs": [
    {
     "data": {
      "text/html": [
       "\n",
       "        <iframe\n",
       "            width=\"1200\"\n",
       "            height=\"800\"\n",
       "            src=\"sample-2/SRR8573792_1_fastqc.html\"\n",
       "            frameborder=\"0\"\n",
       "            allowfullscreen\n",
       "        ></iframe>\n",
       "        "
      ],
      "text/plain": [
       "<IPython.lib.display.IFrame at 0x7f550e82b490>"
      ]
     },
     "execution_count": 13,
     "metadata": {},
     "output_type": "execute_result"
    }
   ],
   "source": [
    "# Quality visualizations of sample-2==>forward\n",
    "IFrame(src=\"sample-2/SRR8573792_1_fastqc.html\", width=1200, height=800)"
   ]
  },
  {
   "cell_type": "code",
   "execution_count": 14,
   "metadata": {},
   "outputs": [
    {
     "name": "stdout",
     "output_type": "stream",
     "text": [
      "@SRR8573792.1 1/2\r\n",
      "ACTTGTGTATCCTCGGTCGTATTCTTTGAATCGTTTGTAATTACCGGTGGATCATTAACCGGAGAAACGGTAATGACCAGCGTATCATTCGTACACAATGC\r\n",
      "+\r\n",
      "BCBCCGGGGGGGGGGGGGGGGGGGGGGGGGGGGGGGGGGGGGGGGGGGGGGGGGEGGGGGGGGGGGGGGGGGGGGGGFGGGGGGGGGGGGGGGGGGGGGGA\r\n",
      "@SRR8573792.2 2/2\r\n",
      "CGTCGGCCAGGTCCCATCCGCCTGGCCGACGCCAAACCCGAAGACGGCTGGACCCAAGCCAAGGCAGCCAGGGCCCTGGCGCGGTTCGCCAAACCCATCG\r\n",
      "+\r\n",
      "BBBCCGGGGGGGGGGGGGGGGGGGGGGGGGGGGGGGGGGGGGGGGGGGGGGGGGGGGGGGGGGGGGGGGGGGGGGGGGGGGGGDGGGGGGGGGGGGBGGG\r\n",
      "@SRR8573792.3 3/2\r\n",
      "ATGACCAGTTTCTTACGTTTTATTCTAATGGCAAGTAAAGCAGGTTTACAATGGTCATTGGATACAATGGTTAATGAGTCATTAGTTACACGTGCTCGTAA\r\n"
     ]
    }
   ],
   "source": [
    "# Take a look at first few lines of sequence(sample-2==>reverse)  \n",
    "!head sample-2/SRR8573792_2.fastq"
   ]
  },
  {
   "cell_type": "code",
   "execution_count": 15,
   "metadata": {},
   "outputs": [
    {
     "name": "stdout",
     "output_type": "stream",
     "text": [
      "+\r\n",
      "CCBBCGFGGGGGGGGGGGGGGGGGGGGGGGGGGGGGGGGGGGGGGGGGGGGGGGGGGGGGGGGGGGGGGGGGGGGGGGGGGG>GGGGGGGGGGEGGGGGGG\r\n",
      "@SRR8573792.20272838 20272838/2\r\n",
      "AATCAAGCGATGGTCGTATTCCAGACCAAGTTTGTCGAACTCGGATTTGAATTCCTTTTCGAAGACTTCGGCGAAGATATCTTTGAAGCGTCCATCGTAAG\r\n",
      "+\r\n",
      "BBBBBGGGGGGGGGGGGGDGGGGGGGGGGGF>FFFGGGGGGGGGGGGGFGGFGGGEEGGGGGGGGGGGGGGGGGGGGGGGGGGGGGGGGGGGGGGGGGGGF\r\n",
      "@SRR8573792.20272839 20272839/2\r\n",
      "AACCAACAAGCATTCGGCCCAGATTCTTGGCATACCGGCGCGAGAACCCAATCCCAATTTTTTGAATGAGGTAATACCATGAGCGTGTCTCTCTCGAACGC\r\n",
      "+\r\n",
      "ABBBBGFGGGGGGGGFBGGGGGGGGGGGGGGGGGGGGGGGGGGGGGGGGFEGGGEGGGEGGGG@;?>8FGGBGG>GC>FEGEGGGG<>FGGGGGGGGGGGG\r\n"
     ]
    }
   ],
   "source": [
    "# Take a look at last few lines of sequence(sample-2==>reverse)  \n",
    "!tail sample-2/SRR8573792_2.fastq"
   ]
  },
  {
   "cell_type": "code",
   "execution_count": 16,
   "metadata": {},
   "outputs": [
    {
     "name": "stdout",
     "output_type": "stream",
     "text": [
      "Started analysis of SRR8573792_2.fastq.gz\n",
      "Approx 5% complete for SRR8573792_2.fastq.gz\n",
      "Approx 10% complete for SRR8573792_2.fastq.gz\n",
      "Approx 15% complete for SRR8573792_2.fastq.gz\n",
      "Approx 20% complete for SRR8573792_2.fastq.gz\n",
      "Approx 25% complete for SRR8573792_2.fastq.gz\n",
      "Approx 30% complete for SRR8573792_2.fastq.gz\n",
      "Approx 35% complete for SRR8573792_2.fastq.gz\n",
      "Approx 40% complete for SRR8573792_2.fastq.gz\n",
      "Approx 45% complete for SRR8573792_2.fastq.gz\n",
      "Approx 50% complete for SRR8573792_2.fastq.gz\n",
      "Approx 55% complete for SRR8573792_2.fastq.gz\n",
      "Approx 60% complete for SRR8573792_2.fastq.gz\n",
      "Approx 65% complete for SRR8573792_2.fastq.gz\n",
      "Approx 70% complete for SRR8573792_2.fastq.gz\n",
      "Approx 75% complete for SRR8573792_2.fastq.gz\n",
      "Approx 80% complete for SRR8573792_2.fastq.gz\n",
      "Approx 85% complete for SRR8573792_2.fastq.gz\n",
      "Approx 90% complete for SRR8573792_2.fastq.gz\n",
      "Approx 95% complete for SRR8573792_2.fastq.gz\n",
      "Analysis complete for SRR8573792_2.fastq.gz\n"
     ]
    }
   ],
   "source": [
    "# Quality check for sample-2==>reverse\n",
    "!fastqc sample-2/SRR8573792_2.fastq.gz"
   ]
  },
  {
   "cell_type": "code",
   "execution_count": 17,
   "metadata": {},
   "outputs": [
    {
     "data": {
      "text/html": [
       "\n",
       "        <iframe\n",
       "            width=\"1200\"\n",
       "            height=\"800\"\n",
       "            src=\"sample-2/SRR8573792_2_fastqc.html\"\n",
       "            frameborder=\"0\"\n",
       "            allowfullscreen\n",
       "        ></iframe>\n",
       "        "
      ],
      "text/plain": [
       "<IPython.lib.display.IFrame at 0x7f550ea45850>"
      ]
     },
     "execution_count": 17,
     "metadata": {},
     "output_type": "execute_result"
    }
   ],
   "source": [
    "# Quality visualizations of sample-2==>reseverse \n",
    "IFrame(src=\"sample-2/SRR8573792_2_fastqc.html\", width=1200, height=800)"
   ]
  },
  {
   "cell_type": "code",
   "execution_count": 18,
   "metadata": {},
   "outputs": [
    {
     "name": "stdout",
     "output_type": "stream",
     "text": [
      "@SRR8573793.1 1/1\r\n",
      "GATCCGAGAATAGGTGCTGCGCTTCATGCCATACCGGTACTAATACCAGCTTGTCCACCGACATGCCTTCTTTGATCAGATCCCGTGAATGCAGATCAA\r\n",
      "+\r\n",
      "=<BBGGDGGGGGGGGGGGGGGGGGGGGGGGGGGGGGGGGGGGGGGGGGGGGGGGGGGGGGGGGGGGGGGGGGGGGGGGGEGGGGGGGGGGFGGGGGGGG\r\n",
      "@SRR8573793.2 2/1\r\n",
      "ATATTTTAGAAGTTATAAGTGAAGAAGATATTCCTGTAAGTATGTTTTTCATTGGACATCAAATAGAAAATTTCAAAAGTATATATGAAGAAACTCTAAG\r\n",
      "+\r\n",
      "=?BBGGGGGGGGGGGGGGGGGGGGGGGGGGGGGGGGGGGGGGGGGGGGGGGGGGGGGGGGGGGGGGGGGGGGGEGGGGGGGGGGGGGGGCGGGGGGGGG>\r\n",
      "@SRR8573793.3 3/1\r\n",
      "ATTTTGACTACCGGCACATCAGCATGCGGCAGGGTAAAGCCCATCATTGAGCCGCCCATGATCACGCGCTGACGCGGCTCCGGGATCAATGAGAACTGA\r\n"
     ]
    }
   ],
   "source": [
    "# Take a look at first few lines of sequence(sample-3==>forward)  \n",
    "!head sample-3/SRR8573793_1.fastq"
   ]
  },
  {
   "cell_type": "code",
   "execution_count": 19,
   "metadata": {},
   "outputs": [
    {
     "name": "stdout",
     "output_type": "stream",
     "text": [
      "@SRR8573793.9147873 9147873/1\r\n",
      "TAAATAATCTCATCAGGTTTAAATTCAGGCCACATGCTGCGCCCTTGAATGATCAATCCAAATGCACGCTTAGATAGATGCTGTGGTCGGGGTATCCAATC\r\n",
      "+\r\n",
      "=BBBBGGGGGGGGGGC1FGGGGGGGGG>GGGGB@B@FGGGGGGGGGGEFGEGGGGGGGGGGGGGGGGGGGDG0FEC0BFGGGGFDFGG//E;AFGGGGGGF\r\n",
      "@SRR8573793.9147874 9147874/1\r\n",
      "CAGCACCTGGCCAAACAGGTGCTGGATGGCAGCGTGACCGATCTGGAAATTGGCGCCTTTTGCCTGGCCATGCGCATCAAGGGCGAAACGCCCGAAGAGAT\r\n",
      "+\r\n",
      "AB@BBGGGGGGGGGGGGGGGGGGGGGGGGGGGGGGGGGGGGGGGGGGGGGGCGGGGGGGGGGGGGGGGGGGGGCGGGGGGGGGGGGGGGBGGGGBGGGGGB\r\n",
      "@SRR8573793.9147875 9147875/1\r\n",
      "CAAAATTAAGCCTCTTGCGTTTCGTCTTCTTTATAAAGGATTCTTCCACAATGTGGACAA"
     ]
    }
   ],
   "source": [
    "# Take a look at last few lines of sequence(sample-3==>forward)  \n",
    "!tail sample-3/SRR8573793_1.fastq"
   ]
  },
  {
   "cell_type": "code",
   "execution_count": 20,
   "metadata": {},
   "outputs": [
    {
     "name": "stdout",
     "output_type": "stream",
     "text": [
      "Started analysis of SRR8573793_1.fastq.gz\n",
      "Approx 5% complete for SRR8573793_1.fastq.gz\n",
      "Approx 10% complete for SRR8573793_1.fastq.gz\n",
      "Approx 15% complete for SRR8573793_1.fastq.gz\n",
      "Approx 20% complete for SRR8573793_1.fastq.gz\n",
      "Approx 25% complete for SRR8573793_1.fastq.gz\n",
      "Approx 30% complete for SRR8573793_1.fastq.gz\n",
      "Approx 35% complete for SRR8573793_1.fastq.gz\n",
      "Approx 40% complete for SRR8573793_1.fastq.gz\n",
      "Approx 45% complete for SRR8573793_1.fastq.gz\n",
      "Approx 50% complete for SRR8573793_1.fastq.gz\n",
      "Approx 55% complete for SRR8573793_1.fastq.gz\n",
      "Approx 60% complete for SRR8573793_1.fastq.gz\n",
      "Approx 65% complete for SRR8573793_1.fastq.gz\n",
      "Approx 70% complete for SRR8573793_1.fastq.gz\n",
      "Approx 75% complete for SRR8573793_1.fastq.gz\n",
      "Approx 80% complete for SRR8573793_1.fastq.gz\n",
      "Approx 85% complete for SRR8573793_1.fastq.gz\n",
      "Approx 90% complete for SRR8573793_1.fastq.gz\n",
      "Approx 95% complete for SRR8573793_1.fastq.gz\n",
      "Analysis complete for SRR8573793_1.fastq.gz\n"
     ]
    }
   ],
   "source": [
    "# Quality check for sample-3==>forward \n",
    "!fastqc sample-3/SRR8573793_1.fastq.gz"
   ]
  },
  {
   "cell_type": "code",
   "execution_count": 21,
   "metadata": {},
   "outputs": [
    {
     "data": {
      "text/html": [
       "\n",
       "        <iframe\n",
       "            width=\"1200\"\n",
       "            height=\"800\"\n",
       "            src=\"sample-3/SRR8573793_1_fastqc.html\"\n",
       "            frameborder=\"0\"\n",
       "            allowfullscreen\n",
       "        ></iframe>\n",
       "        "
      ],
      "text/plain": [
       "<IPython.lib.display.IFrame at 0x7f550d884f10>"
      ]
     },
     "execution_count": 21,
     "metadata": {},
     "output_type": "execute_result"
    }
   ],
   "source": [
    "# Quality visualizations of sample-3==>forward  \n",
    "IFrame(src=\"sample-3/SRR8573793_1_fastqc.html\", width=1200, height=800)"
   ]
  },
  {
   "cell_type": "code",
   "execution_count": 22,
   "metadata": {},
   "outputs": [
    {
     "name": "stdout",
     "output_type": "stream",
     "text": [
      "@SRR8573793.1 1/2\r\n",
      "GCGACCACTGCAACCAACCTGCCAGCCCAACTGATCCATTTGGTGTTTCTCAGAGTGTCGCAGATCAACGGCTGCGCACACTGTATTGATCTGCATTCACG\r\n",
      "+\r\n",
      "BCCBCGGGGGGGGGGGGGGGGGGGGGGGGGGGGGGGGGGGGGGGGGFGGGGGGGGGGGGBGGGGGGGGGGGGGGGGGGGGGGGGGGGGGGGGGEGGG=GGG\r\n",
      "@SRR8573793.2 2/2\r\n",
      "CATGTGAGTATGTATGATTTCCAATAGTAATATTTGGAAAACTTAGAGTTTCTTCATATATACTTTTGAAATTTTCTATTTGATGTCCAATGAAAAACATA\r\n",
      "+\r\n",
      "BBBBBGGGGGGGGGFGGFGGGGGGGGGGGGFGGGFGGGGGGGGGGGGGGGGGGGGGGGGGGGGFFGGGGGGGGGGGGGGGGGGGGGGGGFGGGGGGGGGG>\r\n",
      "@SRR8573793.3 3/2\r\n",
      "AATCCTGACGGGAAGACAAGTTCCGTCTGGCGGTCGTTCACTGTCAATGGGTGTCGTCATGGTTAATGTGGGTACAACCTACGCAATCCGGCAAGCCATCA\r\n"
     ]
    }
   ],
   "source": [
    "# Take a look at first few lines of sequence(sample-3==>forward)  \n",
    "!head sample-3/SRR8573793_2.fastq"
   ]
  },
  {
   "cell_type": "code",
   "execution_count": 23,
   "metadata": {},
   "outputs": [
    {
     "name": "stdout",
     "output_type": "stream",
     "text": [
      "+\r\n",
      "CCCCBGGGGGGGGGGGGGGGGGGGGGGGDGGGGGGGGGGGGGGGGGGGGGGGGGGGGGGGGGGGGGGGGGFEEGGGGGGGGGGGGGGGGGGGGGG.BGGGG\r\n",
      "@SRR8573793.12123845 12123845/2\r\n",
      "TACTTGATAACTACCGTATACTGAACCTCTGTCTTTTAAGGTTGACTCGATACTCATAGGTCAAATGCCTCCTCTTTAAGATTTACTTTTAAGCTTGTTCT\r\n",
      "+\r\n",
      "CCCBBGGGGGGGGGGGGGGGGGFGGGGGGGGGGGGGGGGGGGGGEGGGGGGFGGGGGGEGGGGGGGGFGGGGGGF@D@=BFGCGGGGGGGGGGGGCBFGG@\r\n",
      "@SRR8573793.12123846 12123846/2\r\n",
      "CTTATAAAGATCTGGAAAATTTGGCGTGTATAAATTACCAGAAGATGGAGTCTGAATATTTTCCAAAGAAAATTTAACTAGATCAGCAAAATCATCCCCAT\r\n",
      "+\r\n",
      "BBBBBFGGGG>FGGFCGGGCFCCGGBGGGGGGGGEGGGGGGGGGDG>GGGGG>GGGGGGGGGGGGGGGGGGGEEDFG@GGFGGCDGGGGGBCFGGG@EFB>\r\n"
     ]
    }
   ],
   "source": [
    "# Take a look at last few lines of sequence(sample-3==>reverse)  \n",
    "!tail sample-3/SRR8573793_2.fastq"
   ]
  },
  {
   "cell_type": "code",
   "execution_count": null,
   "metadata": {},
   "outputs": [
    {
     "name": "stdout",
     "output_type": "stream",
     "text": [
      "Started analysis of SRR8573793_2.fastq.gz\n",
      "Approx 5% complete for SRR8573793_2.fastq.gz\n",
      "Approx 10% complete for SRR8573793_2.fastq.gz\n",
      "Approx 15% complete for SRR8573793_2.fastq.gz\n",
      "Approx 20% complete for SRR8573793_2.fastq.gz\n",
      "Approx 25% complete for SRR8573793_2.fastq.gz\n",
      "Approx 30% complete for SRR8573793_2.fastq.gz\n",
      "Approx 35% complete for SRR8573793_2.fastq.gz\n",
      "Approx 40% complete for SRR8573793_2.fastq.gz\n",
      "Approx 45% complete for SRR8573793_2.fastq.gz\n",
      "Approx 50% complete for SRR8573793_2.fastq.gz\n",
      "Approx 55% complete for SRR8573793_2.fastq.gz\n",
      "Approx 60% complete for SRR8573793_2.fastq.gz\n",
      "Approx 65% complete for SRR8573793_2.fastq.gz\n",
      "Approx 70% complete for SRR8573793_2.fastq.gz\n",
      "Approx 75% complete for SRR8573793_2.fastq.gz\n",
      "Approx 80% complete for SRR8573793_2.fastq.gz\n",
      "Approx 85% complete for SRR8573793_2.fastq.gz\n",
      "Approx 90% complete for SRR8573793_2.fastq.gz\n"
     ]
    }
   ],
   "source": [
    "# Quality check for sample-3==>reverse  \n",
    "!fastqc sample-3/SRR8573793_2.fastq.gz"
   ]
  },
  {
   "cell_type": "code",
   "execution_count": null,
   "metadata": {},
   "outputs": [],
   "source": []
  },
  {
   "cell_type": "code",
   "execution_count": null,
   "metadata": {},
   "outputs": [],
   "source": []
  },
  {
   "cell_type": "code",
   "execution_count": null,
   "metadata": {},
   "outputs": [],
   "source": []
  },
  {
   "cell_type": "code",
   "execution_count": null,
   "metadata": {},
   "outputs": [],
   "source": [
    "# Quality check for sample-2 "
   ]
  },
  {
   "cell_type": "code",
   "execution_count": null,
   "metadata": {},
   "outputs": [],
   "source": [
    "# Quality check for sample-3 "
   ]
  },
  {
   "cell_type": "code",
   "execution_count": null,
   "metadata": {},
   "outputs": [],
   "source": [
    "# Take a look at first few lines of sequence(sample-2==>forward)  \n",
    "# Take a look at first few lines of sequence(sample-2==>reverse)  \n"
   ]
  },
  {
   "cell_type": "code",
   "execution_count": null,
   "metadata": {},
   "outputs": [],
   "source": []
  },
  {
   "cell_type": "code",
   "execution_count": null,
   "metadata": {},
   "outputs": [],
   "source": []
  },
  {
   "cell_type": "code",
   "execution_count": null,
   "metadata": {},
   "outputs": [],
   "source": []
  },
  {
   "cell_type": "code",
   "execution_count": null,
   "metadata": {},
   "outputs": [],
   "source": []
  },
  {
   "cell_type": "code",
   "execution_count": null,
   "metadata": {},
   "outputs": [],
   "source": []
  },
  {
   "cell_type": "markdown",
   "metadata": {},
   "source": [
    "## Further Reading\n",
    "- https://galaxyproject.github.io/training-material/topics/sequence-analysis/tutorials/quality-control/tutorial.html"
   ]
  }
 ],
 "metadata": {
  "kernelspec": {
   "display_name": "Python 3",
   "language": "python",
   "name": "python3"
  },
  "language_info": {
   "codemirror_mode": {
    "name": "ipython",
    "version": 3
   },
   "file_extension": ".py",
   "mimetype": "text/x-python",
   "name": "python",
   "nbconvert_exporter": "python",
   "pygments_lexer": "ipython3",
   "version": "3.7.4"
  }
 },
 "nbformat": 4,
 "nbformat_minor": 2
}
