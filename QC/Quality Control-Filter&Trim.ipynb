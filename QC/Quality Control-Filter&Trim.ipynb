{
 "cells": [
  {
   "cell_type": "markdown",
   "metadata": {},
   "source": [
    "# Quality Control of Raw Sequence: Filter&Trim\n",
    "Created by [Jubayer Hossain](https://github.com/jubayer-hossain)"
   ]
  },
  {
   "cell_type": "code",
   "execution_count": 11,
   "metadata": {},
   "outputs": [],
   "source": [
    "from IPython.display import FileLink, FileLinks,IFrame"
   ]
  },
  {
   "cell_type": "markdown",
   "metadata": {},
   "source": [
    "## Trimming Reads with Trimmomatic\n",
    "- LEADING:20\n",
    "- TRAILING:20\n",
    "- SLIDINGWINDO-5:20\n",
    "- MINLEN:90\n",
    "- AVGQUAL:20"
   ]
  },
  {
   "cell_type": "code",
   "execution_count": 10,
   "metadata": {},
   "outputs": [
    {
     "name": "stdout",
     "output_type": "stream",
     "text": [
      "TrimmomaticPE: Started with arguments:\n",
      " -phred33 sample-1/SRR8573791_1.fastq.gz sample-1/SRR8573791_2.fastq.gz output_forward_paired.fastq output_forward_unpaired.fastq output_reverse_paired.fastq output_reverse_unpaired.fastq ILLUMINACLIP:/home/jhossain/ARGs/QC/Trimmomatic-0.39/adapters/NexteraPE-PE.fa:2:30:10 HEADCROP:20 LEADING:20 TRAILING:20 SLIDINGWINDOW:5:20 MINLEN:90\n",
      "Multiple cores found: Using 4 threads\n",
      "Using PrefixPair: 'AGATGTGTATAAGAGACAG' and 'AGATGTGTATAAGAGACAG'\n",
      "Using Long Clipping Sequence: 'GTCTCGTGGGCTCGGAGATGTGTATAAGAGACAG'\n",
      "Using Long Clipping Sequence: 'TCGTCGGCAGCGTCAGATGTGTATAAGAGACAG'\n",
      "Using Long Clipping Sequence: 'CTGTCTCTTATACACATCTCCGAGCCCACGAGAC'\n",
      "Using Long Clipping Sequence: 'CTGTCTCTTATACACATCTGACGCTGCCGACGA'\n",
      "ILLUMINACLIP: Using 1 prefix pairs, 4 forward/reverse sequences, 0 forward only sequences, 0 reverse only sequences\n",
      "Input Read Pairs: 14138124 Both Surviving: 12064256 (85.33%) Forward Only Surviving: 920944 (6.51%) Reverse Only Surviving: 857267 (6.06%) Dropped: 295657 (2.09%)\n",
      "TrimmomaticPE: Completed successfully\n"
     ]
    }
   ],
   "source": [
    "!trimmomatic PE -phred33 sample-1/SRR8573791_1.fastq.gz sample-1/SRR8573791_2.fastq.gz output_forward_paired.fastq output_forward_unpaired.fastq output_reverse_paired.fastq output_reverse_unpaired.fastq ILLUMINACLIP:/home/jhossain/ARGs/QC/Trimmomatic-0.39/adapters/NexteraPE-PE.fa:2:30:10 HEADCROP:20 LEADING:20 TRAILING:20 SLIDINGWINDOW:5:20 MINLEN:90 "
   ]
  },
  {
   "cell_type": "code",
   "execution_count": 15,
   "metadata": {},
   "outputs": [
    {
     "name": "stdout",
     "output_type": "stream",
     "text": [
      "@SRR8573791.1 1/1\r\n",
      "CAGCGATTAAATCTATCTAATTTAAATGAATTGTTAAAAACTCAAAATCATATTATTTACGATGGATATAGCGACACACGAATATCCCGATAC\r\n",
      "+\r\n",
      "BCGGGGGGGGEFFGGEGGGGGGGGGGGGGGGFED>FFGGG>:0FGGGGGGGD0FCGFGGDGGGFFGGGGGCFC<8;/:/:@DBGG>=C>.59@\r\n",
      "@SRR8573791.2 2/1\r\n",
      "TTCTTTGCTGGCAGTGGCCAGGAGGCATTGGAACTGCTCGCCGACCAGCAGATCGATATCGTTGTCACGGATATGAAGATGCCGGGTATTGACGGCCTGACCCTGC\r\n",
      "+\r\n",
      "GGEFGGDGGGGGGGGEGGGGGG0FGGGGGGGGGGGGGGGGGGGGGDEDGGGGGGGFGGGGGGFGGCGGBG.CDGG/8DBD@BGA9AG.@@EBCG@G,7>;EB?GG>\r\n",
      "@SRR8573791.4 4/1\r\n",
      "CCCCATCGCCTGGACTTTTTTCTACCGGAATGCTTTCTCCCGTCACGGGTGCCTGGTCGATGCTGCTGTAGCCCGCCACCACGCACCCATCCAGCGCCAAACGTT\r\n"
     ]
    }
   ],
   "source": [
    "# Take a look at first few lines of sequence output_forward_paired sequence \n",
    "!head output_forward_paired.fastq"
   ]
  },
  {
   "cell_type": "code",
   "execution_count": 16,
   "metadata": {},
   "outputs": [
    {
     "name": "stdout",
     "output_type": "stream",
     "text": [
      "@SRR8573791.1 1/1\r\n",
      "CAGCGATTAAATCTATCTAATTTAAATGAATTGTTAAAAACTCAAAATCATATTATTTACGATGGATATAGCGACACACGAATATCCCGATAC\r\n",
      "+\r\n",
      "BCGGGGGGGGEFFGGEGGGGGGGGGGGGGGGFED>FFGGG>:0FGGGGGGGD0FCGFGGDGGGFFGGGGGCFC<8;/:/:@DBGG>=C>.59@\r\n",
      "@SRR8573791.2 2/1\r\n",
      "TTCTTTGCTGGCAGTGGCCAGGAGGCATTGGAACTGCTCGCCGACCAGCAGATCGATATCGTTGTCACGGATATGAAGATGCCGGGTATTGACGGCCTGACCCTGC\r\n",
      "+\r\n",
      "GGEFGGDGGGGGGGGEGGGGGG0FGGGGGGGGGGGGGGGGGGGGGDEDGGGGGGGFGGGGGGFGGCGGBG.CDGG/8DBD@BGA9AG.@@EBCG@G,7>;EB?GG>\r\n",
      "@SRR8573791.4 4/1\r\n",
      "CCCCATCGCCTGGACTTTTTTCTACCGGAATGCTTTCTCCCGTCACGGGTGCCTGGTCGATGCTGCTGTAGCCCGCCACCACGCACCCATCCAGCGCCAAACGTT\r\n"
     ]
    }
   ],
   "source": [
    "# Take a look at last few lines of sequence output_forward_paired sequence \n",
    "!head output_forward_paired.fastq"
   ]
  },
  {
   "cell_type": "code",
   "execution_count": 14,
   "metadata": {},
   "outputs": [
    {
     "name": "stdout",
     "output_type": "stream",
     "text": [
      "Started analysis of output_forward_paired.fastq\n",
      "Approx 5% complete for output_forward_paired.fastq\n",
      "Approx 10% complete for output_forward_paired.fastq\n",
      "Approx 15% complete for output_forward_paired.fastq\n",
      "Approx 20% complete for output_forward_paired.fastq\n",
      "Approx 25% complete for output_forward_paired.fastq\n",
      "Approx 30% complete for output_forward_paired.fastq\n",
      "Approx 35% complete for output_forward_paired.fastq\n",
      "Approx 40% complete for output_forward_paired.fastq\n",
      "Approx 45% complete for output_forward_paired.fastq\n",
      "Approx 50% complete for output_forward_paired.fastq\n",
      "Approx 55% complete for output_forward_paired.fastq\n",
      "Approx 60% complete for output_forward_paired.fastq\n",
      "Approx 65% complete for output_forward_paired.fastq\n",
      "Approx 70% complete for output_forward_paired.fastq\n",
      "Approx 75% complete for output_forward_paired.fastq\n",
      "Approx 80% complete for output_forward_paired.fastq\n",
      "Approx 85% complete for output_forward_paired.fastq\n",
      "Approx 90% complete for output_forward_paired.fastq\n",
      "Approx 95% complete for output_forward_paired.fastq\n",
      "Analysis complete for output_forward_paired.fastq\n"
     ]
    }
   ],
   "source": [
    "# Quality check for output_forward_paired sequence \n",
    "!fastqc output_forward_paired.fastq"
   ]
  },
  {
   "cell_type": "code",
   "execution_count": 19,
   "metadata": {},
   "outputs": [
    {
     "data": {
      "text/html": [
       "\n",
       "        <iframe\n",
       "            width=\"1200\"\n",
       "            height=\"500\"\n",
       "            src=\"output_forward_paired_fastqc.html\"\n",
       "            frameborder=\"0\"\n",
       "            allowfullscreen\n",
       "        ></iframe>\n",
       "        "
      ],
      "text/plain": [
       "<IPython.lib.display.IFrame at 0x7f6b66171790>"
      ]
     },
     "execution_count": 19,
     "metadata": {},
     "output_type": "execute_result"
    }
   ],
   "source": [
    "# Visualization of output_forward_paired sequence \n",
    "IFrame(src=\"output_forward_paired_fastqc.html\", width=1200, height=500)"
   ]
  },
  {
   "cell_type": "code",
   "execution_count": 20,
   "metadata": {},
   "outputs": [
    {
     "name": "stdout",
     "output_type": "stream",
     "text": [
      "@SRR8573791.3 3/1\r\n",
      "GTATTGCGCGCACGCAGGCGGCTCGCGGATTGCGGGCTGAGCCTGATGTTGAGCATCACAATCGCCGGTAACTCCCAGTCATTCCAGTGGCCC\r\n",
      "+\r\n",
      "G/::FGGGGGADGGGGGGGGD/EGGGGGGGGEGGGGGGGGGGGG.E76C@G@DGG/CEGEGGGB.8C.CCGGEG/.C=CGGEG=B.E@GG,68\r\n",
      "@SRR8573791.31 31/1\r\n",
      "AAGTGAAGAGAAATACTTCATATGGCTCTGCGCGAAAGTAATAGATCCACTAAACGTAAGTCATAGTTATCTTGAGTTGTTCAGGTTGATGCATTCTTTTGAGT\r\n",
      "+\r\n",
      "CFGFGGGGGGFGGGGGGGGGGGGGDGDGGFGG<GDGGEGGGEGGFGEGGEGGGGGGGGBGFGGGGGGEGGCGEGGGGGGGGGGGGGCGCFGGGGGGGGCGGFB@\r\n",
      "@SRR8573791.32 32/1\r\n",
      "CTTTTTGCGCTGCATCAACCTGCTGGAGCAACCCCACGCCGGCAAGATTCTGCTCAATAACGAAGAGCTGAAACTGGTGGCCACCAAGGACGGTGCCATGAAG\r\n"
     ]
    }
   ],
   "source": [
    "# Take a look at first few lines of sequence output_forward_unpaired sequence \n",
    "!head output_forward_unpaired.fastq"
   ]
  },
  {
   "cell_type": "code",
   "execution_count": 21,
   "metadata": {},
   "outputs": [
    {
     "name": "stdout",
     "output_type": "stream",
     "text": [
      "+\r\n",
      "GGGGGGE>FFGGGGGGGGGE<CEGGGGGGFGGGGGFGFGGGGGGDGGGGGGGGGGGGGEGGG@CDDAGD>EBEGG@D@BGB@EBG:-BGGG=@B=BG=G=.56@5\r\n",
      "@SRR8573791.14138115 14138115/1\r\n",
      "CGCTCAGGCTGATGGGCGATGCCCCGCGCAGCCAGCAGGCGCTGGATCTGGCGCTCAAAACGCCGCGCAACGATAGCAAAACCTGGATGGCCGATTACGGCAGCC\r\n",
      "+\r\n",
      "GGGGGGGGGGGFGGGGEGGGGGGGGGGGGGGGGGGGGGGGGGGGGGGGGGGGGG@GGFCGGGCGGDGGDGGGEGGGGG=BGGGGGG:BGBGGGD@GGGGG@GGDB\r\n",
      "@SRR8573791.14138120 14138120/1\r\n",
      "GCAGACGAGGACATAGAAAAGCGGGACGAAGACGAGGCCGAGCACGGTGGCCGTCGCCATGCCGCCGAGCACGCCGGTGCCGATCGCGCGCCGGCTGGCCGATCCG\r\n",
      "+\r\n",
      "EEGGG>CEGG>@F@FFFGCDFG>DGGGG<>FGGBGD/>F<>E>GGG@CEGB@A.CDGB>CBEC6>G.C>ACGG:DAD.@>EG:AGGDG@@GG@3;@GBBG@,,DDB\r\n"
     ]
    }
   ],
   "source": [
    "# Take a look at last few lines of sequence output_forward_unpaired sequence \n",
    "!tail output_forward_unpaired.fastq"
   ]
  },
  {
   "cell_type": "code",
   "execution_count": 22,
   "metadata": {},
   "outputs": [
    {
     "name": "stdout",
     "output_type": "stream",
     "text": [
      "Started analysis of output_forward_unpaired.fastq\n",
      "Approx 5% complete for output_forward_unpaired.fastq\n",
      "Approx 10% complete for output_forward_unpaired.fastq\n",
      "Approx 15% complete for output_forward_unpaired.fastq\n",
      "Approx 20% complete for output_forward_unpaired.fastq\n",
      "Approx 25% complete for output_forward_unpaired.fastq\n",
      "Approx 30% complete for output_forward_unpaired.fastq\n",
      "Approx 35% complete for output_forward_unpaired.fastq\n",
      "Approx 40% complete for output_forward_unpaired.fastq\n",
      "Approx 45% complete for output_forward_unpaired.fastq\n",
      "Approx 50% complete for output_forward_unpaired.fastq\n",
      "Approx 55% complete for output_forward_unpaired.fastq\n",
      "Approx 60% complete for output_forward_unpaired.fastq\n",
      "Approx 65% complete for output_forward_unpaired.fastq\n",
      "Approx 70% complete for output_forward_unpaired.fastq\n",
      "Approx 75% complete for output_forward_unpaired.fastq\n",
      "Approx 80% complete for output_forward_unpaired.fastq\n",
      "Approx 85% complete for output_forward_unpaired.fastq\n",
      "Approx 90% complete for output_forward_unpaired.fastq\n",
      "Approx 95% complete for output_forward_unpaired.fastq\n",
      "Analysis complete for output_forward_unpaired.fastq\n"
     ]
    }
   ],
   "source": [
    "# Quality check for output_forward_unpaired sequence \n",
    "!fastqc output_forward_unpaired.fastq"
   ]
  },
  {
   "cell_type": "code",
   "execution_count": 23,
   "metadata": {},
   "outputs": [
    {
     "data": {
      "text/html": [
       "\n",
       "        <iframe\n",
       "            width=\"1200\"\n",
       "            height=\"500\"\n",
       "            src=\"output_forward_unpaired_fastqc.html\"\n",
       "            frameborder=\"0\"\n",
       "            allowfullscreen\n",
       "        ></iframe>\n",
       "        "
      ],
      "text/plain": [
       "<IPython.lib.display.IFrame at 0x7f6b65810390>"
      ]
     },
     "execution_count": 23,
     "metadata": {},
     "output_type": "execute_result"
    }
   ],
   "source": [
    "# Visualization of output_forward_unpaired sequence \n",
    "IFrame(src=\"output_forward_unpaired_fastqc.html\", width=1200, height=500)"
   ]
  },
  {
   "cell_type": "code",
   "execution_count": 25,
   "metadata": {},
   "outputs": [
    {
     "name": "stdout",
     "output_type": "stream",
     "text": [
      "@SRR8573791.1 1/2\r\n",
      "GTTTGGAGCGGTAAATTTTCGGACTAATTTTTCAAAACGGTCTGAAGACATTGGCTGATAATTTTTAGAAGAAGTTGTGGCTCGCCTGCTG\r\n",
      "+\r\n",
      "GGGFGG:FGBED/<F1E:FGAB/ECD:1FGGGGGFF@F@CFB9B@>:FDEG0FCGGGF00FGDGG0@FGCF00CFGGG><6F7A:.F;008\r\n",
      "@SRR8573791.2 2/2\r\n",
      "CTTGGTGAGAAAACGAAAGACCTCGCCACGATTGATGCAGGGCAACAACTGGTCGGCCTGGGTGTGTGCACTCAGCACAAGGCGGAGGATGTGCGGGTGATGCTG\r\n",
      "+\r\n",
      "EEBEGFBGG1CFCFGEG=/EFFFGG<EGGGCFGG>CGG@CFGBFGGFGGGDBEGGGGGBGGG@C>DGGEGG/9DEGGD..@EGG.8@D.636CE79373<GGGG@\r\n",
      "@SRR8573791.4 4/2\r\n",
      "CGTGGCTGAGCCAGCCGACAAGAAATATCGCCGTGGGAAGCGTGGTGCGCGTCAGACCCGGAGAACGTTTGGCGCTGGATGGGTGCGTGGTGGCGGGCTACAGCAG\r\n"
     ]
    }
   ],
   "source": [
    "# Take a look at first few lines of sequence output_reverse_paired sequence \n",
    "!head output_reverse_paired.fastq"
   ]
  },
  {
   "cell_type": "code",
   "execution_count": 26,
   "metadata": {},
   "outputs": [
    {
     "name": "stdout",
     "output_type": "stream",
     "text": [
      "@SRR8573791.1 1/2\r\n",
      "GTTTGGAGCGGTAAATTTTCGGACTAATTTTTCAAAACGGTCTGAAGACATTGGCTGATAATTTTTAGAAGAAGTTGTGGCTCGCCTGCTG\r\n",
      "+\r\n",
      "GGGFGG:FGBED/<F1E:FGAB/ECD:1FGGGGGFF@F@CFB9B@>:FDEG0FCGGGF00FGDGG0@FGCF00CFGGG><6F7A:.F;008\r\n",
      "@SRR8573791.2 2/2\r\n",
      "CTTGGTGAGAAAACGAAAGACCTCGCCACGATTGATGCAGGGCAACAACTGGTCGGCCTGGGTGTGTGCACTCAGCACAAGGCGGAGGATGTGCGGGTGATGCTG\r\n",
      "+\r\n",
      "EEBEGFBGG1CFCFGEG=/EFFFGG<EGGGCFGG>CGG@CFGBFGGFGGGDBEGGGGGBGGG@C>DGGEGG/9DEGGD..@EGG.8@D.636CE79373<GGGG@\r\n",
      "@SRR8573791.4 4/2\r\n",
      "CGTGGCTGAGCCAGCCGACAAGAAATATCGCCGTGGGAAGCGTGGTGCGCGTCAGACCCGGAGAACGTTTGGCGCTGGATGGGTGCGTGGTGGCGGGCTACAGCAG\r\n"
     ]
    }
   ],
   "source": [
    "# Take a look at last few lines of sequence output_reverse_paired sequence \n",
    "!head output_reverse_paired.fastq"
   ]
  },
  {
   "cell_type": "code",
   "execution_count": 27,
   "metadata": {},
   "outputs": [
    {
     "name": "stdout",
     "output_type": "stream",
     "text": [
      "Started analysis of output_reverse_paired.fastq\n",
      "Approx 5% complete for output_reverse_paired.fastq\n",
      "Approx 10% complete for output_reverse_paired.fastq\n",
      "Approx 15% complete for output_reverse_paired.fastq\n",
      "Approx 20% complete for output_reverse_paired.fastq\n",
      "Approx 25% complete for output_reverse_paired.fastq\n",
      "Approx 30% complete for output_reverse_paired.fastq\n",
      "Approx 35% complete for output_reverse_paired.fastq\n",
      "Approx 40% complete for output_reverse_paired.fastq\n",
      "Approx 45% complete for output_reverse_paired.fastq\n",
      "Approx 50% complete for output_reverse_paired.fastq\n",
      "Approx 55% complete for output_reverse_paired.fastq\n",
      "Approx 60% complete for output_reverse_paired.fastq\n",
      "Approx 65% complete for output_reverse_paired.fastq\n",
      "Approx 70% complete for output_reverse_paired.fastq\n",
      "Approx 75% complete for output_reverse_paired.fastq\n",
      "Approx 80% complete for output_reverse_paired.fastq\n",
      "Approx 85% complete for output_reverse_paired.fastq\n",
      "Approx 90% complete for output_reverse_paired.fastq\n",
      "Approx 95% complete for output_reverse_paired.fastq\n",
      "Analysis complete for output_reverse_paired.fastq\n"
     ]
    }
   ],
   "source": [
    "# Quality check for output_reverse_paired sequence \n",
    "!fastqc output_reverse_paired.fastq"
   ]
  },
  {
   "cell_type": "code",
   "execution_count": 28,
   "metadata": {},
   "outputs": [
    {
     "data": {
      "text/html": [
       "\n",
       "        <iframe\n",
       "            width=\"1200\"\n",
       "            height=\"500\"\n",
       "            src=\"output_reverse_paired_fastqc.html\"\n",
       "            frameborder=\"0\"\n",
       "            allowfullscreen\n",
       "        ></iframe>\n",
       "        "
      ],
      "text/plain": [
       "<IPython.lib.display.IFrame at 0x7f6b65101150>"
      ]
     },
     "execution_count": 28,
     "metadata": {},
     "output_type": "execute_result"
    }
   ],
   "source": [
    "# Visualization of output_reverse_paired sequence \n",
    "IFrame(src=\"output_reverse_paired_fastqc.html\", width=1200, height=500)"
   ]
  },
  {
   "cell_type": "code",
   "execution_count": 29,
   "metadata": {},
   "outputs": [
    {
     "name": "stdout",
     "output_type": "stream",
     "text": [
      "@SRR8573791.138 138/2\r\n",
      "AAATACAAATTAGCTGCGGCTTCAATTCCATAAGCAGTTCCACCGTAGGGAATTTCATTAAGATACATCTCAAGAATCTGGTCTTTCTCATA\r\n",
      "+\r\n",
      "GGEGG>F@FGFFFFGG>B/ED/@@11?CGGGDFGG1<FE>E10;CGGGGB00=CC@C@@EGGGG0DCGGGGGGG0FG:CF@@C70:DFG07B\r\n",
      "@SRR8573791.141 141/2\r\n",
      "ACCTACCGTACTACTAATTGTGATACTTGGTACAGGTTCGGCGCAAACATCTAAGTAGACGCGATTGTGATTATCCTTGCCAAATACTTGCGCAGCTTGCAATGCG\r\n",
      "+\r\n",
      "G=CF>FGGGGGGGGG::FGGGGGGG1EGGGGGGCGGGGGGGE>CBCGGGGFGGGGGGCDFGGGG@0DDGGGGGGG@GGGGGEE;G6DCF08@@DG.-BBGBGG=B@\r\n",
      "@SRR8573791.228 228/2\r\n",
      "AATTATGCCTATGTTGTTTTGATAAGTCTGCTTCTTATTCCGGCTTTTCTTAATCATAGACTACATTTCACAGGACACGAGATTACTCATTTTACTTAT\r\n"
     ]
    }
   ],
   "source": [
    "# Take a look at first few lines of sequence output_reverse_unpaired sequence \n",
    "!head output_reverse_unpaired.fastq"
   ]
  },
  {
   "cell_type": "code",
   "execution_count": 30,
   "metadata": {},
   "outputs": [
    {
     "name": "stdout",
     "output_type": "stream",
     "text": [
      "+\r\n",
      "GGGGGGGGGGGGFGGGGGGGGGGG0E>B>CBFFFGGGGGBGGGGGGGBGFGGG.>FGFGGGBBBGBGGGG@GG3>G=BGG>;G=6B.8677?5?5CGEBBGB5BGG\r\n",
      "@SRR8573791.14138050 14138050/2\r\n",
      "GGCCCTAAGGGGTCGAAGTTGGAGACGACAACGCTGCGTGGTTTTGGTGGCGGTTGGAACGCGATTGATAATGACCATGCGATGGCTCCGCGCTATTGCAAAACAC\r\n",
      "+\r\n",
      "GGGGGFEGGGGGGGGGGGGGDEGGGGGGGGGGGGGGGGBG@GGGBGGGEBF>G>DGGGEGGGGGGEBGGGEGGGGGGGGGGGGGGGGGGGG@GGGGGBGGGGG--7\r\n",
      "@SRR8573791.14138085 14138085/2\r\n",
      "GACTAGTTGCTTTTGTTTCAAGAAATATTTCTTCTTAATCTTTTCGAACCAAATGATCTTCACTGCCTGAGTTAGCAAACTTTACATAAAATCTATCCTAGCTCTT\r\n",
      "+\r\n",
      "GGGGGFGGGFGCEG1:1EFGGGGGGGGGEGGGGGGGC@GFG1FGGGGGGGGGGGGGGGGFFGGGCGGGGGGGGG>FC/FGGGEEGGGCG>GGG/@/F/8DC.F//7\r\n"
     ]
    }
   ],
   "source": [
    "# Take a look at last few lines of sequence output_reverse_unpaired sequence \n",
    "!tail output_reverse_unpaired.fastq"
   ]
  },
  {
   "cell_type": "code",
   "execution_count": 31,
   "metadata": {},
   "outputs": [
    {
     "name": "stdout",
     "output_type": "stream",
     "text": [
      "Started analysis of output_reverse_unpaired.fastq\n",
      "Approx 5% complete for output_reverse_unpaired.fastq\n",
      "Approx 10% complete for output_reverse_unpaired.fastq\n",
      "Approx 15% complete for output_reverse_unpaired.fastq\n",
      "Approx 20% complete for output_reverse_unpaired.fastq\n",
      "Approx 25% complete for output_reverse_unpaired.fastq\n",
      "Approx 30% complete for output_reverse_unpaired.fastq\n",
      "Approx 35% complete for output_reverse_unpaired.fastq\n",
      "Approx 40% complete for output_reverse_unpaired.fastq\n",
      "Approx 45% complete for output_reverse_unpaired.fastq\n",
      "Approx 50% complete for output_reverse_unpaired.fastq\n",
      "Approx 55% complete for output_reverse_unpaired.fastq\n",
      "Approx 60% complete for output_reverse_unpaired.fastq\n",
      "Approx 65% complete for output_reverse_unpaired.fastq\n",
      "Approx 70% complete for output_reverse_unpaired.fastq\n",
      "Approx 75% complete for output_reverse_unpaired.fastq\n",
      "Approx 80% complete for output_reverse_unpaired.fastq\n",
      "Approx 85% complete for output_reverse_unpaired.fastq\n",
      "Approx 90% complete for output_reverse_unpaired.fastq\n",
      "Approx 95% complete for output_reverse_unpaired.fastq\n",
      "Analysis complete for output_reverse_unpaired.fastq\n"
     ]
    }
   ],
   "source": [
    "# Quality check for output_reverse_unpaired sequence \n",
    "!fastqc output_reverse_unpaired.fastq"
   ]
  },
  {
   "cell_type": "code",
   "execution_count": 32,
   "metadata": {},
   "outputs": [
    {
     "data": {
      "text/html": [
       "\n",
       "        <iframe\n",
       "            width=\"1200\"\n",
       "            height=\"500\"\n",
       "            src=\"output_reverse_unpaired_fastqc.html\"\n",
       "            frameborder=\"0\"\n",
       "            allowfullscreen\n",
       "        ></iframe>\n",
       "        "
      ],
      "text/plain": [
       "<IPython.lib.display.IFrame at 0x7f6b661c7850>"
      ]
     },
     "execution_count": 32,
     "metadata": {},
     "output_type": "execute_result"
    }
   ],
   "source": [
    "# Visualization of output_reverse_unpaired sequence \n",
    "IFrame(src=\"output_reverse_unpaired_fastqc.html\", width=1200, height=500)"
   ]
  },
  {
   "cell_type": "markdown",
   "metadata": {},
   "source": [
    "## Tools\n",
    "- [Trimmomatic](https://anaconda.org/bioconda/trimmomatic)\n",
    "- [QIIME2](https://docs.qiime2.org/2019.10/install/native/)\n",
    "- [FastQC](https://anaconda.org/bioconda/fastqc)"
   ]
  }
 ],
 "metadata": {
  "kernelspec": {
   "display_name": "Python 3",
   "language": "python",
   "name": "python3"
  },
  "language_info": {
   "codemirror_mode": {
    "name": "ipython",
    "version": 3
   },
   "file_extension": ".py",
   "mimetype": "text/x-python",
   "name": "python",
   "nbconvert_exporter": "python",
   "pygments_lexer": "ipython3",
   "version": "3.7.4"
  }
 },
 "nbformat": 4,
 "nbformat_minor": 2
}
